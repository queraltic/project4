{
 "cells": [
  {
   "cell_type": "markdown",
   "id": "e110dd39",
   "metadata": {},
   "source": [
    "# GET & POST ENDPOINTS"
   ]
  },
  {
   "cell_type": "code",
   "execution_count": 1,
   "id": "9e959fe7",
   "metadata": {},
   "outputs": [],
   "source": [
    "import requests\n",
    "import pandas as pd"
   ]
  },
  {
   "cell_type": "markdown",
   "id": "40ad2b41",
   "metadata": {},
   "source": [
    "# Get"
   ]
  },
  {
   "cell_type": "code",
   "execution_count": null,
   "id": "b31438b0",
   "metadata": {},
   "outputs": [],
   "source": [
    "# Get everything\n",
    "geteverything= requests.get('http://localhost:9000/sql')\n",
    "df1 = pd.df.from_dict(all.json())\n",
    "df1.head()"
   ]
  },
  {
   "cell_type": "code",
   "execution_count": null,
   "id": "70e4c0ff",
   "metadata": {},
   "outputs": [],
   "source": [
    "#Get order\n",
    "order=requests.get('http://localhost:9000/order')\n",
    "df2 = pd.df.from_dict(all.json())\n",
    "df2.head()"
   ]
  },
  {
   "cell_type": "code",
   "execution_count": null,
   "id": "f80ffbdd",
   "metadata": {},
   "outputs": [],
   "source": [
    "#Get names\n",
    "total=requests.get('http://localhost:9000/total_reviews')\n",
    "df3 = pd.df.from_dict(all.json())\n",
    "df1.head()"
   ]
  },
  {
   "cell_type": "code",
   "execution_count": null,
   "id": "35f9e709",
   "metadata": {},
   "outputs": [],
   "source": [
    "#Get order\n",
    "order=requests.get('http://localhost:9000/name')\n",
    "df4 = pd.df.from_dict(all.json())\n",
    "df4.head()"
   ]
  },
  {
   "cell_type": "markdown",
   "id": "b2b19edf",
   "metadata": {},
   "source": [
    "# Post"
   ]
  },
  {
   "cell_type": "code",
   "execution_count": null,
   "id": "d6a6e3e1",
   "metadata": {},
   "outputs": [],
   "source": [
    "# Post a new review\n",
    "new_review=(\"reviewerName, reviewerText,overall,summary,new\"):\n",
    "requests.post('http://localhost:9000/post', params=headers)\n"
   ]
  }
 ],
 "metadata": {
  "kernelspec": {
   "display_name": "Python 3 (ipykernel)",
   "language": "python",
   "name": "python3"
  },
  "language_info": {
   "codemirror_mode": {
    "name": "ipython",
    "version": 3
   },
   "file_extension": ".py",
   "mimetype": "text/x-python",
   "name": "python",
   "nbconvert_exporter": "python",
   "pygments_lexer": "ipython3",
   "version": "3.10.4"
  }
 },
 "nbformat": 4,
 "nbformat_minor": 5
}
